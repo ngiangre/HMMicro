{
 "cells": [
  {
   "cell_type": "markdown",
   "metadata": {},
   "source": [
    "# train_hmm.ipynb"
   ]
  },
  {
   "cell_type": "code",
   "execution_count": 1,
   "metadata": {
    "collapsed": true
   },
   "outputs": [],
   "source": [
    "from pandas import DataFrame, read_csv\n",
    "import pandas as pd\n",
    "import numpy as np\n",
    "import sys, os\n",
    "\n",
    "from pomegranate import *\n"
   ]
  },
  {
   "cell_type": "code",
   "execution_count": 2,
   "metadata": {
    "collapsed": true
   },
   "outputs": [],
   "source": [
    "dir_path = '/Users/Felix/GitHub/HMMicro/hmm_scripts'"
   ]
  },
  {
   "cell_type": "code",
   "execution_count": 3,
   "metadata": {
    "collapsed": false
   },
   "outputs": [],
   "source": [
    "# Get 2-state transition matrix\n",
    "trans_mat_path = os.path.join(dir_path, 'trans_mat.tsv')\n",
    "trans_mat = read_csv(trans_mat_path, sep='\\t', header=0, index_col=None)\n",
    "trans_mat.index = state_nms = trans_mat.columns.tolist() # Get state names as list\n",
    "state_nms = np.array(state_nms)\n",
    "\n",
    "# Get emission parameters (mean, sd)\n",
    "emit_params_path = os.path.join(dir_path, 'emit_params.tsv')\n",
    "emit_params = read_csv(emit_params_path, sep='\\t', header=0, index_col=None)"
   ]
  },
  {
   "cell_type": "code",
   "execution_count": 4,
   "metadata": {
    "collapsed": false
   },
   "outputs": [
    {
     "data": {
      "text/html": [
       "<div>\n",
       "<table border=\"1\" class=\"dataframe\">\n",
       "  <thead>\n",
       "    <tr style=\"text-align: right;\">\n",
       "      <th></th>\n",
       "      <th>stateA</th>\n",
       "      <th>stateB</th>\n",
       "    </tr>\n",
       "  </thead>\n",
       "  <tbody>\n",
       "    <tr>\n",
       "      <th>stateA</th>\n",
       "      <td>0.7</td>\n",
       "      <td>0.3</td>\n",
       "    </tr>\n",
       "    <tr>\n",
       "      <th>stateB</th>\n",
       "      <td>0.2</td>\n",
       "      <td>0.8</td>\n",
       "    </tr>\n",
       "  </tbody>\n",
       "</table>\n",
       "</div>"
      ],
      "text/plain": [
       "        stateA  stateB\n",
       "stateA     0.7     0.3\n",
       "stateB     0.2     0.8"
      ]
     },
     "execution_count": 4,
     "metadata": {},
     "output_type": "execute_result"
    }
   ],
   "source": [
    "trans_mat"
   ]
  },
  {
   "cell_type": "code",
   "execution_count": 5,
   "metadata": {
    "collapsed": false
   },
   "outputs": [
    {
     "data": {
      "text/html": [
       "<div>\n",
       "<table border=\"1\" class=\"dataframe\">\n",
       "  <thead>\n",
       "    <tr style=\"text-align: right;\">\n",
       "      <th></th>\n",
       "      <th>stateA</th>\n",
       "      <th>stateB</th>\n",
       "    </tr>\n",
       "  </thead>\n",
       "  <tbody>\n",
       "    <tr>\n",
       "      <th>0</th>\n",
       "      <td>5</td>\n",
       "      <td>1</td>\n",
       "    </tr>\n",
       "    <tr>\n",
       "      <th>1</th>\n",
       "      <td>1</td>\n",
       "      <td>4</td>\n",
       "    </tr>\n",
       "  </tbody>\n",
       "</table>\n",
       "</div>"
      ],
      "text/plain": [
       "   stateA  stateB\n",
       "0       5       1\n",
       "1       1       4"
      ]
     },
     "execution_count": 5,
     "metadata": {},
     "output_type": "execute_result"
    }
   ],
   "source": [
    "emit_params"
   ]
  },
  {
   "cell_type": "code",
   "execution_count": 6,
   "metadata": {
    "collapsed": false
   },
   "outputs": [],
   "source": [
    "# Get simulated sequence\n",
    "state_seq_path = os.path.join(dir_path, 'state_seq.tsv')\n",
    "sim_state_seq = read_csv(state_seq_path, sep='\\t', header=None, index_col=None)\n",
    "sim_state_seq = sim_state_seq.iloc[:,0].tolist()\n",
    "\n",
    "# Get simulated sequence\n",
    "emit_seq_path = os.path.join(dir_path, 'emit_seq.tsv')\n",
    "sim_emit_seq = read_csv(emit_seq_path, sep='\\t', header=None, index_col=None)\n",
    "sim_emit_seq = sim_emit_seq.iloc[:,0].tolist()"
   ]
  },
  {
   "cell_type": "code",
   "execution_count": 7,
   "metadata": {
    "collapsed": false
   },
   "outputs": [],
   "source": [
    "# Construct HMM\n",
    "s1 = State( NormalDistribution(3,3), name=str(state_nms[0]) )\n",
    "s2 = State( NormalDistribution(3,3), name=str(state_nms[1]) )\n",
    "\n",
    "model = HiddenMarkovModel()\n",
    "model.add_states( [s1, s2] )\n",
    "model.add_transition( model.start, s1, 1)\n",
    "model.add_transition( model.start, s2, 0)\n",
    "model.add_transition( s1, s1, 0.5)\n",
    "model.add_transition( s2, s2, 0.5)\n",
    "model.add_transition( s1, s2, 0.5)\n",
    "model.add_transition( s2, s1, 0.5)\n",
    "model.bake()"
   ]
  },
  {
   "cell_type": "code",
   "execution_count": 21,
   "metadata": {
    "collapsed": false
   },
   "outputs": [
    {
     "data": {
      "text/plain": [
       "{\n",
       "    \"frozen\" :false,\n",
       "    \"parameters\" :[\n",
       "        3.0,\n",
       "        3.0\n",
       "    ],\n",
       "    \"class\" :\"Distribution\",\n",
       "    \"name\" :\"NormalDistribution\"\n",
       "}"
      ]
     },
     "execution_count": 21,
     "metadata": {},
     "output_type": "execute_result"
    }
   ],
   "source": [
    "NormalDistribution(3,3)"
   ]
  },
  {
   "cell_type": "code",
   "execution_count": 8,
   "metadata": {
    "collapsed": false
   },
   "outputs": [
    {
     "name": "stdout",
     "output_type": "stream",
     "text": [
      "Training improvement: 66.56770682184879\n",
      "Training improvement: 0.049931481120893295\n",
      "Training improvement: 0.0033355499958815926\n",
      "Training improvement: 0.006016775069383584\n",
      "Training improvement: 0.012680558061674674\n",
      "Training improvement: 0.026730134479748813\n",
      "Training improvement: 0.05626983606907743\n",
      "Training improvement: 0.11810345715639414\n",
      "Training improvement: 0.24632920211661258\n",
      "Training improvement: 0.5071806716191531\n",
      "Training improvement: 1.0184188633497797\n",
      "Training improvement: 1.9561668389887927\n",
      "Training improvement: 3.5089429127633593\n",
      "Training improvement: 5.766960276148438\n",
      "Training improvement: 8.654058900220207\n",
      "Training improvement: 12.00367714497088\n",
      "Training improvement: 15.622068025925728\n",
      "Training improvement: 19.058039190923864\n",
      "Training improvement: 21.210542955651363\n",
      "Training improvement: 20.858141093573522\n",
      "Training improvement: 18.337752164938593\n",
      "Training improvement: 15.601367507427312\n",
      "Training improvement: 13.484724073068719\n",
      "Training improvement: 10.752047208324711\n",
      "Training improvement: 7.222520856293613\n",
      "Training improvement: 4.181575761099339\n",
      "Training improvement: 2.206564707087182\n",
      "Training improvement: 1.1021326382260668\n",
      "Training improvement: 0.5324475920810983\n",
      "Training improvement: 0.25218964922714804\n",
      "Training improvement: 0.11816745057558364\n",
      "Training improvement: 0.05509229186191078\n",
      "Training improvement: 0.025643326770932617\n",
      "Training improvement: 0.011937699312056793\n",
      "Training improvement: 0.005562578451645095\n",
      "Training improvement: 0.0025950752283279144\n",
      "Training improvement: 0.0012120809133193688\n",
      "Training improvement: 0.0005667076702593477\n",
      "Training improvement: 0.00026518875392866903\n",
      "Training improvement: 0.00012417797461239388\n",
      "Training improvement: 5.8178486142423935e-05\n",
      "Training improvement: 2.7268014491710346e-05\n",
      "Training improvement: 1.2784269074472832e-05\n",
      "Training improvement: 5.995117135171313e-06\n",
      "Training improvement: 2.811881131492555e-06\n",
      "Training improvement: 1.3190024219511542e-06\n",
      "Training improvement: 6.187638064147905e-07\n",
      "Training improvement: 2.903007043641992e-07\n",
      "Training improvement: 1.3618137018056586e-07\n",
      "Training improvement: 6.392974682967179e-08\n",
      "Training improvement: 2.998694981215522e-08\n",
      "Training improvement: 1.407124727847986e-08\n",
      "Training improvement: 6.606114766327664e-09\n",
      "Training improvement: 3.0636329029221088e-09\n",
      "Training improvement: 1.4670149539597332e-09\n",
      "Training improvement: 6.989466783124954e-10\n",
      "Total Training Improvement: 251.14589894717983\n"
     ]
    },
    {
     "data": {
      "text/plain": [
       "251.14589894717983"
      ]
     },
     "execution_count": 8,
     "metadata": {},
     "output_type": "execute_result"
    }
   ],
   "source": [
    "# Fit HMM\n",
    "model.fit([sim_emit_seq], distribution_inertia=0.1, edge_inertia=0.1)"
   ]
  },
  {
   "cell_type": "code",
   "execution_count": 9,
   "metadata": {
    "collapsed": false
   },
   "outputs": [
    {
     "data": {
      "text/plain": [
       "array([[ 0.7059275 ,  0.2940725 ,  0.        ,  0.        ],\n",
       "       [ 0.17954023,  0.82045977,  0.        ,  0.        ],\n",
       "       [ 1.        ,  0.        ,  0.        ,  0.        ],\n",
       "       [ 0.        ,  0.        ,  0.        ,  0.        ]])"
      ]
     },
     "execution_count": 9,
     "metadata": {},
     "output_type": "execute_result"
    }
   ],
   "source": [
    "model.dense_transition_matrix()"
   ]
  },
  {
   "cell_type": "code",
   "execution_count": 11,
   "metadata": {
    "collapsed": false,
    "scrolled": true
   },
   "outputs": [
    {
     "name": "stdout",
     "output_type": "stream",
     "text": [
      "stateA\n",
      "{\n",
      "    \"frozen\" :false,\n",
      "    \"parameters\" :[\n",
      "        5.039671116842356,\n",
      "        0.940528007442133\n",
      "    ],\n",
      "    \"class\" :\"Distribution\",\n",
      "    \"name\" :\"NormalDistribution\"\n",
      "}\n",
      "stateB\n",
      "{\n",
      "    \"frozen\" :false,\n",
      "    \"parameters\" :[\n",
      "        1.1501819222924201,\n",
      "        4.056530371160682\n",
      "    ],\n",
      "    \"class\" :\"Distribution\",\n",
      "    \"name\" :\"NormalDistribution\"\n",
      "}\n"
     ]
    }
   ],
   "source": [
    "for st in model.states:\n",
    "    if st.name in state_nms:\n",
    "        print(st.name)\n",
    "        print(st.distribution)"
   ]
  },
  {
   "cell_type": "code",
   "execution_count": 12,
   "metadata": {
    "collapsed": false
   },
   "outputs": [
    {
     "name": "stdout",
     "output_type": "stream",
     "text": [
      "Help on class State in module pomegranate.base:\n",
      "\n",
      "class State(builtins.object)\n",
      " |  Represents a state in an HMM. Holds emission distribution, but not\n",
      " |  transition distribution, because that's stored in the graph edges.\n",
      " |  \n",
      " |  Methods defined here:\n",
      " |  \n",
      " |  __init__(...)\n",
      " |      Make a new State emitting from the given distribution. If distribution\n",
      " |      is None, this state does not emit anything. A name, if specified, will\n",
      " |      be the state's name when presented in output. Name may not contain\n",
      " |      spaces or newlines, and must be unique within a model.\n",
      " |  \n",
      " |  __new__(*args, **kwargs) from builtins.type\n",
      " |      Create and return a new object.  See help(type) for accurate signature.\n",
      " |  \n",
      " |  __reduce__(...)\n",
      " |      helper for pickle\n",
      " |  \n",
      " |  __repr__(...)\n",
      " |      The string representation of a state is the json, so call that format.\n",
      " |  \n",
      " |  __str__(...)\n",
      " |      The string representation of a state is the json, so call that format.\n",
      " |  \n",
      " |  copy(...)\n",
      " |      Return a hard copy of this state.\n",
      " |  \n",
      " |  from_json(...) from builtins.type\n",
      " |      Read a State from a given string formatted in JSON.\n",
      " |  \n",
      " |  is_silent(...)\n",
      " |      Return True if this state is silent (distribution is None) and False\n",
      " |      otherwise.\n",
      " |  \n",
      " |  tie(...)\n",
      " |      Tie this state to another state by just setting the distribution of the\n",
      " |      other state to point to this states distribution.\n",
      " |  \n",
      " |  tied_copy(...)\n",
      " |      Return a copy of this state where the distribution is tied to the\n",
      " |      distribution of this state.\n",
      " |  \n",
      " |  to_json(...)\n",
      " |      Convert this state to JSON format.\n",
      " |  \n",
      " |  ----------------------------------------------------------------------\n",
      " |  Data descriptors defined here:\n",
      " |  \n",
      " |  distribution\n",
      " |  \n",
      " |  name\n",
      " |  \n",
      " |  weight\n",
      "\n"
     ]
    }
   ],
   "source": [
    "help(State)"
   ]
  },
  {
   "cell_type": "code",
   "execution_count": null,
   "metadata": {
    "collapsed": true
   },
   "outputs": [],
   "source": []
  }
 ],
 "metadata": {
  "anaconda-cloud": {},
  "kernelspec": {
   "display_name": "Python [default]",
   "language": "python",
   "name": "python3"
  },
  "language_info": {
   "codemirror_mode": {
    "name": "ipython",
    "version": 3
   },
   "file_extension": ".py",
   "mimetype": "text/x-python",
   "name": "python",
   "nbconvert_exporter": "python",
   "pygments_lexer": "ipython3",
   "version": "3.5.2"
  }
 },
 "nbformat": 4,
 "nbformat_minor": 2
}
