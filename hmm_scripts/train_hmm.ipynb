{
 "cells": [
  {
   "cell_type": "markdown",
   "metadata": {},
   "source": [
    "# train_hmm.ipynb"
   ]
  },
  {
   "cell_type": "code",
   "execution_count": 1,
   "metadata": {
    "collapsed": true
   },
   "outputs": [],
   "source": [
    "from pandas import DataFrame, read_csv\n",
    "import pandas as pd\n",
    "import numpy as np\n",
    "import sys, os\n",
    "\n",
    "from pomegranate import *\n"
   ]
  },
  {
   "cell_type": "code",
   "execution_count": 2,
   "metadata": {
    "collapsed": true
   },
   "outputs": [],
   "source": [
    "dir_path = '/Users/Felix/GitHub/HMMicro/hmm_scripts'"
   ]
  },
  {
   "cell_type": "code",
   "execution_count": 3,
   "metadata": {
    "collapsed": false
   },
   "outputs": [],
   "source": [
    "# Get 2-state transition matrix\n",
    "trans_mat_path = os.path.join(dir_path, 'trans_mat.tsv')\n",
    "trans_mat = read_csv(trans_mat_path, sep='\\t', header=0, index_col=None)\n",
    "trans_mat.index = state_nms = trans_mat.columns.tolist() # Get state names as list\n",
    "state_nms = np.array(state_nms)\n",
    "\n",
    "# Get emission parameters (mean, sd)\n",
    "emit_params_path = os.path.join(dir_path, 'emit_params.tsv')\n",
    "emit_params = read_csv(emit_params_path, sep='\\t', header=0, index_col=None)"
   ]
  },
  {
   "cell_type": "code",
   "execution_count": 4,
   "metadata": {
    "collapsed": false
   },
   "outputs": [
    {
     "data": {
      "text/html": [
       "<div>\n",
       "<table border=\"1\" class=\"dataframe\">\n",
       "  <thead>\n",
       "    <tr style=\"text-align: right;\">\n",
       "      <th></th>\n",
       "      <th>stateA</th>\n",
       "      <th>stateB</th>\n",
       "    </tr>\n",
       "  </thead>\n",
       "  <tbody>\n",
       "    <tr>\n",
       "      <th>stateA</th>\n",
       "      <td>0.7</td>\n",
       "      <td>0.3</td>\n",
       "    </tr>\n",
       "    <tr>\n",
       "      <th>stateB</th>\n",
       "      <td>0.2</td>\n",
       "      <td>0.8</td>\n",
       "    </tr>\n",
       "  </tbody>\n",
       "</table>\n",
       "</div>"
      ],
      "text/plain": [
       "        stateA  stateB\n",
       "stateA     0.7     0.3\n",
       "stateB     0.2     0.8"
      ]
     },
     "execution_count": 4,
     "metadata": {},
     "output_type": "execute_result"
    }
   ],
   "source": [
    "trans_mat"
   ]
  },
  {
   "cell_type": "code",
   "execution_count": 5,
   "metadata": {
    "collapsed": false
   },
   "outputs": [
    {
     "data": {
      "text/html": [
       "<div>\n",
       "<table border=\"1\" class=\"dataframe\">\n",
       "  <thead>\n",
       "    <tr style=\"text-align: right;\">\n",
       "      <th></th>\n",
       "      <th>stateA</th>\n",
       "      <th>stateB</th>\n",
       "    </tr>\n",
       "  </thead>\n",
       "  <tbody>\n",
       "    <tr>\n",
       "      <th>0</th>\n",
       "      <td>5</td>\n",
       "      <td>1</td>\n",
       "    </tr>\n",
       "    <tr>\n",
       "      <th>1</th>\n",
       "      <td>1</td>\n",
       "      <td>4</td>\n",
       "    </tr>\n",
       "  </tbody>\n",
       "</table>\n",
       "</div>"
      ],
      "text/plain": [
       "   stateA  stateB\n",
       "0       5       1\n",
       "1       1       4"
      ]
     },
     "execution_count": 5,
     "metadata": {},
     "output_type": "execute_result"
    }
   ],
   "source": [
    "emit_params"
   ]
  },
  {
   "cell_type": "code",
   "execution_count": 6,
   "metadata": {
    "collapsed": false
   },
   "outputs": [],
   "source": [
    "# Get simulated sequence\n",
    "state_seq_path = os.path.join(dir_path, 'state_seq.tsv')\n",
    "sim_state_seq = read_csv(state_seq_path, sep='\\t', header=None, index_col=None)\n",
    "sim_state_seq = sim_state_seq.iloc[:,0].tolist()\n",
    "\n",
    "# Get simulated sequence\n",
    "emit_seq_path = os.path.join(dir_path, 'emit_seq.tsv')\n",
    "sim_emit_seq = read_csv(emit_seq_path, sep='\\t', header=None, index_col=None)\n",
    "sim_emit_seq = sim_emit_seq.iloc[:,0].tolist()"
   ]
  },
  {
   "cell_type": "code",
   "execution_count": 7,
   "metadata": {
    "collapsed": false
   },
   "outputs": [],
   "source": [
    "# Construct HMM\n",
    "s1 = State( NormalDistribution(3,3), name=str(state_nms[0]) )\n",
    "s2 = State( NormalDistribution(3,3), name=str(state_nms[1]) )\n",
    "\n",
    "model = HiddenMarkovModel()\n",
    "model.add_states( [s1, s2] )\n",
    "model.add_transition( model.start, s1, 1)\n",
    "model.add_transition( model.start, s2, 0)\n",
    "model.add_transition( s1, s1, 0.5)\n",
    "model.add_transition( s2, s2, 0.5)\n",
    "model.add_transition( s1, s2, 0.5)\n",
    "model.add_transition( s2, s1, 0.5)\n",
    "model.bake()"
   ]
  },
  {
   "cell_type": "code",
   "execution_count": 21,
   "metadata": {
    "collapsed": true
   },
   "outputs": [],
   "source": [
    "# Get the labels for labeled training\n",
    "use_labels = []\n",
    "for i in sim_state_seq:\n",
    "    if i == state_nms[0]:\n",
    "        use_labels.append(0)\n",
    "    if i == state_nms[1]:\n",
    "        use_labels.append(1)\n",
    "use_labels = [np.array(use_labels)]"
   ]
  },
  {
   "cell_type": "code",
   "execution_count": 26,
   "metadata": {
    "collapsed": false
   },
   "outputs": [
    {
     "name": "stdout",
     "output_type": "stream",
     "text": [
      "1\n",
      "1\n"
     ]
    }
   ],
   "source": [
    "print len( [sim_state_seq] )\n",
    "print len( [np.array(sim_emit_seq)] )"
   ]
  },
  {
   "cell_type": "code",
   "execution_count": 24,
   "metadata": {
    "collapsed": false
   },
   "outputs": [
    {
     "name": "stdout",
     "output_type": "stream",
     "text": [
      "Training improvement: 0.0\n",
      "Total Training Improvement: 0.0\n"
     ]
    },
    {
     "name": "stderr",
     "output_type": "stream",
     "text": [
      "Exception ValueError: \"'stateA' is not in list\" in 'pomegranate.hmm.HiddenMarkovModel._labeled_summarize' ignored\n",
      "Exception ValueError: \"'stateA' is not in list\" in 'pomegranate.hmm.HiddenMarkovModel._labeled_summarize' ignored\n"
     ]
    },
    {
     "data": {
      "text/plain": [
       "0.0"
      ]
     },
     "execution_count": 24,
     "metadata": {},
     "output_type": "execute_result"
    }
   ],
   "source": [
    "# Fit HMM\n",
    "model.fit([np.array(sim_emit_seq)], distribution_inertia=0.1, edge_inertia=0.1,\n",
    "          labels=[sim_state_seq], algorithm='labeled')"
   ]
  },
  {
   "cell_type": "code",
   "execution_count": 9,
   "metadata": {
    "collapsed": false
   },
   "outputs": [
    {
     "data": {
      "text/plain": [
       "array([[ 0.7059275 ,  0.2940725 ,  0.        ,  0.        ],\n",
       "       [ 0.17954023,  0.82045977,  0.        ,  0.        ],\n",
       "       [ 1.        ,  0.        ,  0.        ,  0.        ],\n",
       "       [ 0.        ,  0.        ,  0.        ,  0.        ]])"
      ]
     },
     "execution_count": 9,
     "metadata": {},
     "output_type": "execute_result"
    }
   ],
   "source": [
    "model.dense_transition_matrix()"
   ]
  },
  {
   "cell_type": "code",
   "execution_count": 11,
   "metadata": {
    "collapsed": false,
    "scrolled": true
   },
   "outputs": [
    {
     "name": "stdout",
     "output_type": "stream",
     "text": [
      "stateA\n",
      "{\n",
      "    \"frozen\" :false,\n",
      "    \"parameters\" :[\n",
      "        5.039671116842356,\n",
      "        0.940528007442133\n",
      "    ],\n",
      "    \"class\" :\"Distribution\",\n",
      "    \"name\" :\"NormalDistribution\"\n",
      "}\n",
      "stateB\n",
      "{\n",
      "    \"frozen\" :false,\n",
      "    \"parameters\" :[\n",
      "        1.1501819222924201,\n",
      "        4.056530371160682\n",
      "    ],\n",
      "    \"class\" :\"Distribution\",\n",
      "    \"name\" :\"NormalDistribution\"\n",
      "}\n"
     ]
    }
   ],
   "source": [
    "for st in model.states:\n",
    "    if st.name in state_nms:\n",
    "        print(st.name)\n",
    "        print(st.distribution)"
   ]
  },
  {
   "cell_type": "code",
   "execution_count": 54,
   "metadata": {
    "collapsed": false
   },
   "outputs": [
    {
     "ename": "TypeError",
     "evalue": "_labeled_summarize() takes exactly 3 positional arguments (0 given)",
     "output_type": "error",
     "traceback": [
      "\u001b[0;31m---------------------------------------------------------------------------\u001b[0m",
      "\u001b[0;31mTypeError\u001b[0m                                 Traceback (most recent call last)",
      "\u001b[0;32m<ipython-input-54-d1bfd079c226>\u001b[0m in \u001b[0;36m<module>\u001b[0;34m()\u001b[0m\n\u001b[0;32m----> 1\u001b[0;31m \u001b[0mmodel\u001b[0m\u001b[0;34m.\u001b[0m\u001b[0m_labeled_summarize\u001b[0m\u001b[0;34m(\u001b[0m\u001b[0;34m)\u001b[0m\u001b[0;34m\u001b[0m\u001b[0m\n\u001b[0m",
      "\u001b[0;32mpomegranate/hmm.pyx\u001b[0m in \u001b[0;36mpomegranate.hmm.HiddenMarkovModel._labeled_summarize (pomegranate/hmm.c:33954)\u001b[0;34m()\u001b[0m\n",
      "\u001b[0;31mTypeError\u001b[0m: _labeled_summarize() takes exactly 3 positional arguments (0 given)"
     ]
    }
   ],
   "source": [
    "model._labeled_summarize()"
   ]
  }
 ],
 "metadata": {
  "anaconda-cloud": {},
  "kernelspec": {
   "display_name": "Python 2",
   "language": "python",
   "name": "python2"
  },
  "language_info": {
   "codemirror_mode": {
    "name": "ipython",
    "version": 2
   },
   "file_extension": ".py",
   "mimetype": "text/x-python",
   "name": "python",
   "nbconvert_exporter": "python",
   "pygments_lexer": "ipython2",
   "version": "2.7.13"
  }
 },
 "nbformat": 4,
 "nbformat_minor": 2
}
