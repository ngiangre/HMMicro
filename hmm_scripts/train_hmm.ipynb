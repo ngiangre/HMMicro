{
 "cells": [
  {
   "cell_type": "markdown",
   "metadata": {},
   "source": [
    "# train_hmm.ipynb"
   ]
  },
  {
   "cell_type": "code",
   "execution_count": 2,
   "metadata": {
    "collapsed": true
   },
   "outputs": [],
   "source": [
    "from pandas import DataFrame, read_csv\n",
    "import pandas as pd\n",
    "import numpy as np\n",
    "import sys, os\n",
    "\n",
    "from pomegranate import *\n"
   ]
  },
  {
   "cell_type": "code",
   "execution_count": 3,
   "metadata": {
    "collapsed": true
   },
   "outputs": [],
   "source": [
    "dir_path = '/Users/Felix/GitHub/HMMicro/hmm_scripts'"
   ]
  },
  {
   "cell_type": "code",
   "execution_count": 4,
   "metadata": {
    "collapsed": false
   },
   "outputs": [],
   "source": [
    "# Get 2-state transition matrix\n",
    "trans_mat_path = os.path.join(dir_path, 'trans_mat.tsv')\n",
    "trans_mat = read_csv(trans_mat_path, sep='\\t', header=0, index_col=None)\n",
    "trans_mat.index = state_nms = trans_mat.columns.tolist() # Get state names as list\n",
    "state_nms = np.array(state_nms)\n",
    "\n",
    "# Get emission parameters (mean, sd)\n",
    "emit_params_path = os.path.join(dir_path, 'emit_params.tsv')\n",
    "emit_params = read_csv(emit_params_path, sep='\\t', header=0, index_col=None)"
   ]
  },
  {
   "cell_type": "code",
   "execution_count": 5,
   "metadata": {
    "collapsed": false
   },
   "outputs": [
    {
     "data": {
      "text/html": [
       "<div>\n",
       "<table border=\"1\" class=\"dataframe\">\n",
       "  <thead>\n",
       "    <tr style=\"text-align: right;\">\n",
       "      <th></th>\n",
       "      <th>stateA</th>\n",
       "      <th>stateB</th>\n",
       "    </tr>\n",
       "  </thead>\n",
       "  <tbody>\n",
       "    <tr>\n",
       "      <th>stateA</th>\n",
       "      <td>0.7</td>\n",
       "      <td>0.3</td>\n",
       "    </tr>\n",
       "    <tr>\n",
       "      <th>stateB</th>\n",
       "      <td>0.2</td>\n",
       "      <td>0.8</td>\n",
       "    </tr>\n",
       "  </tbody>\n",
       "</table>\n",
       "</div>"
      ],
      "text/plain": [
       "        stateA  stateB\n",
       "stateA     0.7     0.3\n",
       "stateB     0.2     0.8"
      ]
     },
     "execution_count": 5,
     "metadata": {},
     "output_type": "execute_result"
    }
   ],
   "source": [
    "trans_mat"
   ]
  },
  {
   "cell_type": "code",
   "execution_count": 6,
   "metadata": {
    "collapsed": false
   },
   "outputs": [
    {
     "data": {
      "text/html": [
       "<div>\n",
       "<table border=\"1\" class=\"dataframe\">\n",
       "  <thead>\n",
       "    <tr style=\"text-align: right;\">\n",
       "      <th></th>\n",
       "      <th>stateA</th>\n",
       "      <th>stateB</th>\n",
       "    </tr>\n",
       "  </thead>\n",
       "  <tbody>\n",
       "    <tr>\n",
       "      <th>0</th>\n",
       "      <td>5</td>\n",
       "      <td>1</td>\n",
       "    </tr>\n",
       "    <tr>\n",
       "      <th>1</th>\n",
       "      <td>1</td>\n",
       "      <td>4</td>\n",
       "    </tr>\n",
       "  </tbody>\n",
       "</table>\n",
       "</div>"
      ],
      "text/plain": [
       "   stateA  stateB\n",
       "0       5       1\n",
       "1       1       4"
      ]
     },
     "execution_count": 6,
     "metadata": {},
     "output_type": "execute_result"
    }
   ],
   "source": [
    "emit_params"
   ]
  },
  {
   "cell_type": "code",
   "execution_count": 42,
   "metadata": {
    "collapsed": false
   },
   "outputs": [],
   "source": [
    "# Get simulated sequence\n",
    "state_seq_path = os.path.join(dir_path, 'state_seq.tsv')\n",
    "sim_state_seq = read_csv(state_seq_path, sep='\\t', header=None, index_col=None)\n",
    "sim_state_seq = sim_state_seq.iloc[:,0].tolist()\n",
    "\n",
    "# Get simulated sequence\n",
    "emit_seq_path = os.path.join(dir_path, 'emit_seq.tsv')\n",
    "sim_emit_seq = read_csv(emit_seq_path, sep='\\t', header=None, index_col=None)\n",
    "sim_emit_seq = sim_emit_seq.iloc[:,0].tolist()"
   ]
  },
  {
   "cell_type": "code",
   "execution_count": 43,
   "metadata": {
    "collapsed": false
   },
   "outputs": [],
   "source": [
    "# Construct HMM\n",
    "s1 = State( NormalDistribution(3,3), name=str(state_nms[0]) )\n",
    "s2 = State( NormalDistribution(3,3), name=str(state_nms[1]) )\n",
    "\n",
    "model = HiddenMarkovModel()\n",
    "model.add_states( [s1, s2] )\n",
    "model.add_transition( model.start, s1, 1)\n",
    "model.add_transition( model.start, s2, 0)\n",
    "model.add_transition( s1, s1, 0.5)\n",
    "model.add_transition( s2, s2, 0.5)\n",
    "model.add_transition( s1, s2, 0.5)\n",
    "model.add_transition( s2, s1, 0.5)\n",
    "model.bake()"
   ]
  },
  {
   "cell_type": "code",
   "execution_count": 44,
   "metadata": {
    "collapsed": false
   },
   "outputs": [
    {
     "name": "stdout",
     "output_type": "stream",
     "text": [
      "Training improvement: 66.5677068218\n",
      "Training improvement: 0.0499314811209\n",
      "Training improvement: 0.00333554999588\n",
      "Training improvement: 0.00601677506938\n",
      "Training improvement: 0.0126805580617\n",
      "Training improvement: 0.0267301344797\n",
      "Training improvement: 0.0562698360691\n",
      "Training improvement: 0.118103457156\n",
      "Training improvement: 0.246329202117\n",
      "Training improvement: 0.507180671619\n",
      "Training improvement: 1.01841886335\n",
      "Training improvement: 1.95616683899\n",
      "Training improvement: 3.50894291276\n",
      "Training improvement: 5.76696027615\n",
      "Training improvement: 8.65405890022\n",
      "Training improvement: 12.003677145\n",
      "Training improvement: 15.6220680259\n",
      "Training improvement: 19.0580391909\n",
      "Training improvement: 21.2105429557\n",
      "Training improvement: 20.8581410935\n",
      "Training improvement: 18.3377521651\n",
      "Training improvement: 15.6013675075\n",
      "Training improvement: 13.484724073\n",
      "Training improvement: 10.7520472082\n",
      "Training improvement: 7.22252085628\n",
      "Training improvement: 4.18157576116\n",
      "Training improvement: 2.20656470701\n",
      "Training improvement: 1.10213263822\n",
      "Training improvement: 0.532447592115\n",
      "Training improvement: 0.252189649222\n",
      "Training improvement: 0.118167450597\n",
      "Training improvement: 0.0550922918346\n",
      "Training improvement: 0.0256433267605\n",
      "Training improvement: 0.011937699348\n",
      "Training improvement: 0.00556257842936\n",
      "Training improvement: 0.00259507521969\n",
      "Training improvement: 0.00121208086694\n",
      "Training improvement: 0.000566707696635\n",
      "Training improvement: 0.000265188740286\n",
      "Training improvement: 0.00012417802418\n",
      "Training improvement: 5.81784429414e-05\n",
      "Training improvement: 2.72680513262e-05\n",
      "Training improvement: 1.27843013615e-05\n",
      "Training improvement: 5.99510985921e-06\n",
      "Training improvement: 2.81181337414e-06\n",
      "Training improvement: 1.31901970235e-06\n",
      "Training improvement: 6.18774720351e-07\n",
      "Training improvement: 2.90307980322e-07\n",
      "Training improvement: 1.36194557854e-07\n",
      "Training improvement: 6.39488462184e-08\n",
      "Training improvement: 2.99296516459e-08\n",
      "Training improvement: 1.4083525457e-08\n",
      "Training improvement: 6.62430466036e-09\n",
      "Training improvement: 3.10137693305e-09\n",
      "Training improvement: 1.38925315696e-09\n",
      "Training improvement: 6.94853952155e-10\n",
      "Total Training Improvement: 251.145898947\n"
     ]
    },
    {
     "data": {
      "text/plain": [
       "251.14589894714481"
      ]
     },
     "execution_count": 44,
     "metadata": {},
     "output_type": "execute_result"
    }
   ],
   "source": [
    "# Fit HMM\n",
    "model.fit([sim_emit_seq], distribution_inertia=0.1, edge_inertia=0.1)"
   ]
  },
  {
   "cell_type": "code",
   "execution_count": 46,
   "metadata": {
    "collapsed": false
   },
   "outputs": [
    {
     "data": {
      "text/plain": [
       "array([[ 0.7059275 ,  0.2940725 ,  0.        ,  0.        ],\n",
       "       [ 0.17954023,  0.82045977,  0.        ,  0.        ],\n",
       "       [ 1.        ,  0.        ,  0.        ,  0.        ],\n",
       "       [ 0.        ,  0.        ,  0.        ,  0.        ]])"
      ]
     },
     "execution_count": 46,
     "metadata": {},
     "output_type": "execute_result"
    }
   ],
   "source": [
    "model.dense_transition_matrix()"
   ]
  },
  {
   "cell_type": "code",
   "execution_count": 48,
   "metadata": {
    "collapsed": false
   },
   "outputs": [
    {
     "name": "stdout",
     "output_type": "stream",
     "text": [
      "stateA\n",
      "{\n",
      "    \"frozen\" :false,\n",
      "    \"class\" :\"Distribution\",\n",
      "    \"parameters\" :[\n",
      "        5.03967111684152,\n",
      "        0.940528007441866\n",
      "    ],\n",
      "    \"name\" :\"NormalDistribution\"\n",
      "}\n",
      "stateB\n",
      "{\n",
      "    \"frozen\" :false,\n",
      "    \"class\" :\"Distribution\",\n",
      "    \"parameters\" :[\n",
      "        1.150181922290824,\n",
      "        4.056530371158894\n",
      "    ],\n",
      "    \"name\" :\"NormalDistribution\"\n",
      "}\n"
     ]
    }
   ],
   "source": [
    "for st in model.states:\n",
    "    if st.name in state_nms:\n",
    "        print st.name\n",
    "        print st.distribution"
   ]
  }
 ],
 "metadata": {
  "kernelspec": {
   "display_name": "Python 2",
   "language": "python",
   "name": "python2"
  },
  "language_info": {
   "codemirror_mode": {
    "name": "ipython",
    "version": 2
   },
   "file_extension": ".py",
   "mimetype": "text/x-python",
   "name": "python",
   "nbconvert_exporter": "python",
   "pygments_lexer": "ipython2",
   "version": "2.7.13"
  }
 },
 "nbformat": 4,
 "nbformat_minor": 2
}
