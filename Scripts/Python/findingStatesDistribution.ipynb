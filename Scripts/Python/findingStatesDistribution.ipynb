{
 "cells": [
  {
   "cell_type": "code",
   "execution_count": 13,
   "metadata": {
    "collapsed": false
   },
   "outputs": [],
   "source": [
    "##############################\n",
    "# Finding chromosomal distribution\n",
    "# of miRNA binding and non-binding sites\n",
    "##############################\n",
    "\n",
    "# import modules\n",
    "import numpy as np\n",
    "import pandas as pd\n",
    "#chromosome 22 positions\n",
    "posseq=np.arange(1,51304566+1,1)\n",
    "\n",
    "# upload positive set \n",
    "file=\"/Users/nickgiangreco/GitHub/HMMicro/CLIP_data/HEK293/Hafner.combined_AGO.proc.hg19.chr22.trimmed.bed\"\n",
    "matrix_full = pd.read_table(file,sep=\"\\t\",header=0)\n",
    "\n",
    "# end goal is to get some kind of state distribution\n",
    "# for binding/nonbinding mirna sites in chr22"
   ]
  },
  {
   "cell_type": "code",
   "execution_count": null,
   "metadata": {
    "collapsed": true
   },
   "outputs": [],
   "source": []
  }
 ],
 "metadata": {
  "anaconda-cloud": {},
  "kernelspec": {
   "display_name": "Python [default]",
   "language": "python",
   "name": "python3"
  },
  "language_info": {
   "codemirror_mode": {
    "name": "ipython",
    "version": 3
   },
   "file_extension": ".py",
   "mimetype": "text/x-python",
   "name": "python",
   "nbconvert_exporter": "python",
   "pygments_lexer": "ipython3",
   "version": "3.5.2"
  }
 },
 "nbformat": 4,
 "nbformat_minor": 1
}
