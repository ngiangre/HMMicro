{
 "cells": [
  {
   "cell_type": "code",
   "execution_count": 7,
   "metadata": {
    "collapsed": false,
    "scrolled": true
   },
   "outputs": [],
   "source": [
    "####################\n",
    "#Reducing dimensions of full_matrix_chr22.txt\n",
    "#\n",
    "#Input: full_matrix.txt with full path\n",
    "#\n",
    "#Output: n x n principal component matrix\n",
    "#that will be used for HMM learning\n",
    "#\n",
    "#the file location was from a temporary place but is now in the repo\n",
    "####################\n",
    "\n",
    "from sklearn.decomposition import PCA\n",
    "import numpy as np\n",
    "\n",
    "#instantiate PCA object\n",
    "file = '/Users/nickgiangreco/Documents/Columbia/Courses/COMPUTATIONAL_GENOMICS/HMMicro_notgit/data/final_matrix_chr22.txt'\n",
    "\n",
    "#reading file\n",
    "matrix_full = np.loadtxt(file, dtype='i', delimiter='\\t', skiprows = 1)\n",
    "\n",
    "#transposing matrix to samples per feature\n",
    "matrix_full_T = matrix_full.transpose()\n",
    "#print(matrix_full) #success!"
   ]
  },
  {
   "cell_type": "code",
   "execution_count": 8,
   "metadata": {
    "collapsed": false
   },
   "outputs": [],
   "source": [
    "#instantiating PCA object\n",
    "pca = PCA(n_components=matrix_full_T.shape[1])\n",
    "\n",
    "#fitting PCA instance with data\n",
    "pca.fit(matrix_full.transpose())\n",
    "\n",
    "#applying dimensionality reduction\n",
    "#extracting principal components\n",
    "matrix_reduce = pca.transform(matrix_full.transpose())"
   ]
  },
  {
   "cell_type": "code",
   "execution_count": 9,
   "metadata": {
    "collapsed": false,
    "scrolled": true
   },
   "outputs": [
    {
     "name": "stdout",
     "output_type": "stream",
     "text": [
      "(7, 7)\n"
     ]
    }
   ],
   "source": [
    "print(matrix_reduce.shape) #huzzah!"
   ]
  },
  {
   "cell_type": "code",
   "execution_count": 25,
   "metadata": {
    "collapsed": false
   },
   "outputs": [],
   "source": [
    "import matplotlib.pyplot as plt\n",
    "x = np.arange(0,7)\n",
    "labels = ['PC1','PC2','PC3','PC4','PC5','PC6','PC7']\n",
    "plt.bar(x,pca.explained_variance_/pca.explained_variance_.sum())\n",
    "plt.title('Epigenetic feature variance captured by principal components')\n",
    "plt.xticks(x,labels)\n",
    "#plt.show()\n",
    "\n",
    "plt.savefig('/Users/nickgiangreco/GitHub/HMMicro/data/pcs_variance_explained.png')\n",
    "\n"
   ]
  },
  {
   "cell_type": "code",
   "execution_count": 10,
   "metadata": {
    "collapsed": true
   },
   "outputs": [],
   "source": [
    "#outputting reduced matrix\n",
    "output = '/Users/nickgiangreco/Documents/Columbia/Courses/COMPUTATIONAL_GENOMICS/HMMicro_notgit/data/matrix_reduce_chr22.txt'\n",
    "np.savetxt(output, matrix_reduce, delimiter=\"\\t\")"
   ]
  },
  {
   "cell_type": "code",
   "execution_count": null,
   "metadata": {
    "collapsed": true
   },
   "outputs": [],
   "source": []
  }
 ],
 "metadata": {
  "anaconda-cloud": {},
  "kernelspec": {
   "display_name": "Python [default]",
   "language": "python",
   "name": "python3"
  },
  "language_info": {
   "codemirror_mode": {
    "name": "ipython",
    "version": 3
   },
   "file_extension": ".py",
   "mimetype": "text/x-python",
   "name": "python",
   "nbconvert_exporter": "python",
   "pygments_lexer": "ipython3",
   "version": "3.5.2"
  }
 },
 "nbformat": 4,
 "nbformat_minor": 1
}
