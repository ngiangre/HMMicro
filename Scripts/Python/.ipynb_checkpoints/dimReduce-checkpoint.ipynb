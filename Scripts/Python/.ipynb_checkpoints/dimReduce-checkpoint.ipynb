{
 "cells": [
  {
   "cell_type": "code",
   "execution_count": 1,
   "metadata": {
    "collapsed": false,
    "scrolled": true
   },
   "outputs": [],
   "source": [
    "####################\n",
    "#Reducing dimensions of full_matrix.txt\n",
    "#\n",
    "#Input: full_matrix.txt with full path\n",
    "#\n",
    "#Output: n x n principal component matrix\n",
    "#that will be used for HMM learning\n",
    "####################\n",
    "\n",
    "from sklearn.decomposition import PCA\n",
    "import numpy as np\n",
    "\n",
    "#instantiate PCA object\n",
    "file = '/Users/nickgiangreco/GitHub/HMMicro/data/final_matrix.txt'\n",
    "\n",
    "#reading file\n",
    "matrix_full = np.loadtxt(file, dtype='i', delimiter='\\t', skiprows = 1)\n",
    "\n",
    "#transposing matrix to samples per feature\n",
    "matrix_full_T = matrix_full.transpose\n",
    "#print(matrix_full) #success!"
   ]
  },
  {
   "cell_type": "code",
   "execution_count": 2,
   "metadata": {
    "collapsed": false
   },
   "outputs": [],
   "source": [
    "#instantiating PCA object\n",
    "pca = PCA(n_components=matrix_full.transpose().shape[1])\n",
    "\n",
    "#fitting PCA instance with data\n",
    "pca.fit(matrix_full.transpose())\n",
    "\n",
    "#applying dimensionality reduction\n",
    "#extracting principal components\n",
    "matrix_reduce = pca.transform(matrix_full.transpose())"
   ]
  },
  {
   "cell_type": "code",
   "execution_count": 3,
   "metadata": {
    "collapsed": false
   },
   "outputs": [
    {
     "name": "stdout",
     "output_type": "stream",
     "text": [
      "(7, 7)\n"
     ]
    }
   ],
   "source": [
    "print(matrix_reduce.shape) #huzzah!"
   ]
  },
  {
   "cell_type": "code",
   "execution_count": 4,
   "metadata": {
    "collapsed": true
   },
   "outputs": [],
   "source": [
    "#outputting reduced matrix\n",
    "output = '/Users/nickgiangreco/GitHub/HMMicro/data/matrix_reduce.txt'\n",
    "np.savetxt(output, matrix_reduce, delimiter=\"\\t\")"
   ]
  }
 ],
 "metadata": {
  "anaconda-cloud": {},
  "kernelspec": {
   "display_name": "Python [default]",
   "language": "python",
   "name": "python3"
  },
  "language_info": {
   "codemirror_mode": {
    "name": "ipython",
    "version": 3
   },
   "file_extension": ".py",
   "mimetype": "text/x-python",
   "name": "python",
   "nbconvert_exporter": "python",
   "pygments_lexer": "ipython3",
   "version": "3.5.2"
  }
 },
 "nbformat": 4,
 "nbformat_minor": 1
}
